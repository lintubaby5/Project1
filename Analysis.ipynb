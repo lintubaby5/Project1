{
 "cells": [
  {
   "cell_type": "code",
   "execution_count": 16,
   "id": "3d61992c",
   "metadata": {},
   "outputs": [
    {
     "name": "stdout",
     "output_type": "stream",
     "text": [
      "Cant find\n"
     ]
    }
   ],
   "source": [
    "type = [\"Assault\"]\n",
    "for type in type:\n",
    "    try:\n",
    "        url = f\"https://services.arcgis.com/S9th0jAJ7bqgIRjw/arcgis/rest/services/{type}/FeatureServer/0/query?where=1%3D1&outFields=*&outSR=4326&f=json\"\n",
    "        response_json = requests.get(url).json()\n",
    "        print(len(response_json[\"features\"]))\n",
    "    except:\n",
    "        print(\"Cant find\")\n",
    "              "
   ]
  },
  {
   "cell_type": "code",
   "execution_count": 6,
   "id": "90a4e6a9",
   "metadata": {},
   "outputs": [
    {
     "ename": "NameError",
     "evalue": "name 'response_json' is not defined",
     "output_type": "error",
     "traceback": [
      "\u001b[1;31m---------------------------------------------------------------------------\u001b[0m",
      "\u001b[1;31mNameError\u001b[0m                                 Traceback (most recent call last)",
      "\u001b[1;32m~\\AppData\\Local\\Temp\\ipykernel_4808\\519477804.py\u001b[0m in \u001b[0;36m<module>\u001b[1;34m\u001b[0m\n\u001b[1;32m----> 1\u001b[1;33m \u001b[0mresponse_json\u001b[0m\u001b[1;33m[\u001b[0m\u001b[1;34m\"objectIds\"\u001b[0m\u001b[1;33m]\u001b[0m\u001b[1;33m[\u001b[0m\u001b[1;33m-\u001b[0m\u001b[1;36m1\u001b[0m\u001b[1;33m]\u001b[0m\u001b[1;33m\u001b[0m\u001b[1;33m\u001b[0m\u001b[0m\n\u001b[0m",
      "\u001b[1;31mNameError\u001b[0m: name 'response_json' is not defined"
     ]
    }
   ],
   "source": [
    "response_json[\"objectIds\"][-1]"
   ]
  },
  {
   "cell_type": "code",
   "execution_count": 7,
   "id": "587dddcb",
   "metadata": {},
   "outputs": [],
   "source": [
    "toronto_crime_data_to_load = \"Resources/students_complete.csv\""
   ]
  },
  {
   "cell_type": "code",
   "execution_count": 3,
   "id": "9dfda3ae",
   "metadata": {},
   "outputs": [],
   "source": [
    "import pandas as pd\n",
    "import requests\n"
   ]
  },
  {
   "cell_type": "code",
   "execution_count": null,
   "id": "8db85827",
   "metadata": {},
   "outputs": [],
   "source": [
    "test"
   ]
  }
 ],
 "metadata": {
  "kernelspec": {
   "display_name": "base",
   "language": "python",
   "name": "python3"
  },
  "language_info": {
   "codemirror_mode": {
    "name": "ipython",
    "version": 3
   },
   "file_extension": ".py",
   "mimetype": "text/x-python",
   "name": "python",
   "nbconvert_exporter": "python",
   "pygments_lexer": "ipython3",
   "version": "3.9.13"
  },
  "vscode": {
   "interpreter": {
    "hash": "eebe9316519ef5f97a3db21ed379efa3f8f7101e45072a863b0fb780508e0ce2"
   }
  }
 },
 "nbformat": 4,
 "nbformat_minor": 5
}
