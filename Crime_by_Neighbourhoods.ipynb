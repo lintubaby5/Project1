{
 "cells": [
  {
   "cell_type": "code",
   "execution_count": 1,
   "id": "d7ccc49c",
   "metadata": {},
   "outputs": [],
   "source": [
    "import pandas as pd\n",
    "import os\n",
    "import csv\n",
    "%matplotlib inline\n",
    "import matplotlib.pyplot as plt\n",
    "import numpy as np\n",
    "\n",
    "assault_path = \"resources/Assault.csv\"\n",
    "bne_path = \"resources/Break_and_Enter.csv\"\n",
    "theft_path = \"resources/Theft_from_Motor_Vehicle.csv\"\n",
    "\n",
    "assault_df = pd.read_csv(assault_path)\n",
    "bne_df = pd.read_csv(bne_path)\n",
    "theft_df = pd.read_csv(theft_path)"
   ]
  },
  {
   "cell_type": "code",
   "execution_count": 2,
   "id": "088fb40c",
   "metadata": {},
   "outputs": [],
   "source": [
    "merged_df = pd.concat([assault_df,bne_df,theft_df])\n"
   ]
  },
  {
   "cell_type": "code",
   "execution_count": 10,
   "id": "933da9b4",
   "metadata": {},
   "outputs": [
    {
     "data": {
      "text/plain": [
       "Assault            161833\n",
       "NonMCI              74491\n",
       "Break and Enter     56466\n",
       "Theft Over           2423\n",
       "Name: MCI, dtype: int64"
      ]
     },
     "execution_count": 10,
     "metadata": {},
     "output_type": "execute_result"
    }
   ],
   "source": [
    "merged_cleaned_df = merged_df.dropna(how=\"any\")\n",
    "#merged_cleaned_df.count()\n",
    "merged_crime = merged_df[\"MCI\"].value_counts()[:12]\n",
    "merged_crime_df = pd.DataFrame(merged_crime)\n",
    "merged_crime"
   ]
  },
  {
   "cell_type": "code",
   "execution_count": 3,
   "id": "cceca004",
   "metadata": {},
   "outputs": [
    {
     "data": {
      "text/plain": [
       "Waterfront Communities-The Island    11754\n",
       "Church-Yonge Corridor                10013\n",
       "Bay Street Corridor                   8122\n",
       "Kensington-Chinatown                  7618\n",
       "Moss Park                             7208\n",
       "West Humber-Clairville                6250\n",
       "York University Heights               5271\n",
       "Downsview-Roding-CFB                  5253\n",
       "Woburn                                5112\n",
       "Annex                                 5020\n",
       "West Hill                             4678\n",
       "Islington-City Centre West            4461\n",
       "Name: Neighbourhood, dtype: int64"
      ]
     },
     "execution_count": 3,
     "metadata": {},
     "output_type": "execute_result"
    }
   ],
   "source": [
    "merged_cleaned_df = merged_df.dropna(how=\"any\")\n",
    "#merged_cleaned_df.count()\n",
    "merged_neigh = merged_df[\"Neighbourhood\"].value_counts()[:12]\n",
    "merged_neigh_df = pd.DataFrame(merged_neigh)\n",
    "merged_neigh"
   ]
  },
  {
   "cell_type": "markdown",
   "id": "fb50b1ec",
   "metadata": {},
   "source": [
    " which premise do the top 3 crimes happen the most? line graph for 3 types\n",
    "what time do the top 3 crimes happen the most? line graph for 3 types\n",
    "# which neighborhood has the greatest number of the top 3 crimes? 3 horizontal bar graphs for each crime\n",
    "what is the trend of the top 3 crimes across years? line regression on a scatter plot\n"
   ]
  },
  {
   "cell_type": "code",
   "execution_count": 4,
   "id": "d58c43e9",
   "metadata": {},
   "outputs": [
    {
     "data": {
      "text/html": [
       "<div>\n",
       "<style scoped>\n",
       "    .dataframe tbody tr th:only-of-type {\n",
       "        vertical-align: middle;\n",
       "    }\n",
       "\n",
       "    .dataframe tbody tr th {\n",
       "        vertical-align: top;\n",
       "    }\n",
       "\n",
       "    .dataframe thead th {\n",
       "        text-align: right;\n",
       "    }\n",
       "</style>\n",
       "<table border=\"1\" class=\"dataframe\">\n",
       "  <thead>\n",
       "    <tr style=\"text-align: right;\">\n",
       "      <th></th>\n",
       "      <th>Neighbourhood</th>\n",
       "    </tr>\n",
       "  </thead>\n",
       "  <tbody>\n",
       "    <tr>\n",
       "      <th>Waterfront Communities-The Island</th>\n",
       "      <td>7204</td>\n",
       "    </tr>\n",
       "    <tr>\n",
       "      <th>Church-Yonge Corridor</th>\n",
       "      <td>6300</td>\n",
       "    </tr>\n",
       "    <tr>\n",
       "      <th>Bay Street Corridor</th>\n",
       "      <td>5620</td>\n",
       "    </tr>\n",
       "    <tr>\n",
       "      <th>Moss Park</th>\n",
       "      <td>4513</td>\n",
       "    </tr>\n",
       "    <tr>\n",
       "      <th>Kensington-Chinatown</th>\n",
       "      <td>3454</td>\n",
       "    </tr>\n",
       "    <tr>\n",
       "      <th>Downsview-Roding-CFB</th>\n",
       "      <td>3300</td>\n",
       "    </tr>\n",
       "    <tr>\n",
       "      <th>West Hill</th>\n",
       "      <td>3274</td>\n",
       "    </tr>\n",
       "    <tr>\n",
       "      <th>Woburn</th>\n",
       "      <td>3234</td>\n",
       "    </tr>\n",
       "    <tr>\n",
       "      <th>York University Heights</th>\n",
       "      <td>2889</td>\n",
       "    </tr>\n",
       "    <tr>\n",
       "      <th>NSA</th>\n",
       "      <td>2876</td>\n",
       "    </tr>\n",
       "    <tr>\n",
       "      <th>Mimico</th>\n",
       "      <td>2693</td>\n",
       "    </tr>\n",
       "    <tr>\n",
       "      <th>Glenfield-Jane Heights</th>\n",
       "      <td>2488</td>\n",
       "    </tr>\n",
       "  </tbody>\n",
       "</table>\n",
       "</div>"
      ],
      "text/plain": [
       "                                   Neighbourhood\n",
       "Waterfront Communities-The Island           7204\n",
       "Church-Yonge Corridor                       6300\n",
       "Bay Street Corridor                         5620\n",
       "Moss Park                                   4513\n",
       "Kensington-Chinatown                        3454\n",
       "Downsview-Roding-CFB                        3300\n",
       "West Hill                                   3274\n",
       "Woburn                                      3234\n",
       "York University Heights                     2889\n",
       "NSA                                         2876\n",
       "Mimico                                      2693\n",
       "Glenfield-Jane Heights                      2488"
      ]
     },
     "execution_count": 4,
     "metadata": {},
     "output_type": "execute_result"
    }
   ],
   "source": [
    "# Sorting neighbourhoods from most incidents to least in a dataframe\n",
    "\n",
    "assault_neigh = assault_df[\"Neighbourhood\"].value_counts()[:12]\n",
    "assault_neigh_df = pd.DataFrame(assault_neigh)\n",
    "sorted_assault = assault_neigh_df.sort_values(\"Neighbourhood\", ascending=False)\n",
    "sorted_assault"
   ]
  },
  {
   "cell_type": "code",
   "execution_count": 5,
   "id": "3677aad2",
   "metadata": {},
   "outputs": [
    {
     "data": {
      "text/plain": [
       "<matplotlib.axes._subplots.AxesSubplot at 0x7f8c9f0e2190>"
      ]
     },
     "execution_count": 5,
     "metadata": {},
     "output_type": "execute_result"
    },
    {
     "data": {
      "image/png": "[encoded data removed]",
      "text/plain": [
       "<Figure size 432x288 with 1 Axes>"
      ]
     },
     "metadata": {
      "needs_background": "light"
     },
     "output_type": "display_data"
    }
   ],
   "source": [
    "chart1 = assault_df['Neighbourhood'].value_counts()[:12]\n",
    "chart1.plot(kind='barh')"
   ]
  },
  {
   "cell_type": "code",
   "execution_count": 6,
   "id": "23ed6dbf",
   "metadata": {},
   "outputs": [
    {
     "data": {
      "text/html": [
       "<div>\n",
       "<style scoped>\n",
       "    .dataframe tbody tr th:only-of-type {\n",
       "        vertical-align: middle;\n",
       "    }\n",
       "\n",
       "    .dataframe tbody tr th {\n",
       "        vertical-align: top;\n",
       "    }\n",
       "\n",
       "    .dataframe thead th {\n",
       "        text-align: right;\n",
       "    }\n",
       "</style>\n",
       "<table border=\"1\" class=\"dataframe\">\n",
       "  <thead>\n",
       "    <tr style=\"text-align: right;\">\n",
       "      <th></th>\n",
       "      <th>Neighbourhood</th>\n",
       "    </tr>\n",
       "  </thead>\n",
       "  <tbody>\n",
       "    <tr>\n",
       "      <th>Waterfront Communities-The Island</th>\n",
       "      <td>2196</td>\n",
       "    </tr>\n",
       "    <tr>\n",
       "      <th>Church-Yonge Corridor</th>\n",
       "      <td>1656</td>\n",
       "    </tr>\n",
       "    <tr>\n",
       "      <th>Bay Street Corridor</th>\n",
       "      <td>1305</td>\n",
       "    </tr>\n",
       "    <tr>\n",
       "      <th>Annex</th>\n",
       "      <td>1251</td>\n",
       "    </tr>\n",
       "    <tr>\n",
       "      <th>Moss Park</th>\n",
       "      <td>1239</td>\n",
       "    </tr>\n",
       "    <tr>\n",
       "      <th>Kensington-Chinatown</th>\n",
       "      <td>1184</td>\n",
       "    </tr>\n",
       "    <tr>\n",
       "      <th>West Humber-Clairville</th>\n",
       "      <td>1037</td>\n",
       "    </tr>\n",
       "    <tr>\n",
       "      <th>South Riverdale</th>\n",
       "      <td>932</td>\n",
       "    </tr>\n",
       "    <tr>\n",
       "      <th>Islington-City Centre West</th>\n",
       "      <td>916</td>\n",
       "    </tr>\n",
       "    <tr>\n",
       "      <th>York University Heights</th>\n",
       "      <td>904</td>\n",
       "    </tr>\n",
       "    <tr>\n",
       "      <th>Dovercourt-Wallace Emerson-Junction</th>\n",
       "      <td>890</td>\n",
       "    </tr>\n",
       "    <tr>\n",
       "      <th>Milliken</th>\n",
       "      <td>801</td>\n",
       "    </tr>\n",
       "  </tbody>\n",
       "</table>\n",
       "</div>"
      ],
      "text/plain": [
       "                                     Neighbourhood\n",
       "Waterfront Communities-The Island             2196\n",
       "Church-Yonge Corridor                         1656\n",
       "Bay Street Corridor                           1305\n",
       "Annex                                         1251\n",
       "Moss Park                                     1239\n",
       "Kensington-Chinatown                          1184\n",
       "West Humber-Clairville                        1037\n",
       "South Riverdale                                932\n",
       "Islington-City Centre West                     916\n",
       "York University Heights                        904\n",
       "Dovercourt-Wallace Emerson-Junction            890\n",
       "Milliken                                       801"
      ]
     },
     "execution_count": 6,
     "metadata": {},
     "output_type": "execute_result"
    }
   ],
   "source": [
    "# Sorting neighbourhoods from most incidents to least in a dataframe\n",
    "\n",
    "bne_by_neig = bne_df['Neighbourhood']\n",
    "\n",
    "bne_neigh = bne_df[\"Neighbourhood\"].value_counts()[:12]\n",
    "bne_neigh_df = pd.DataFrame(bne_neigh)\n",
    "sorted_bne = bne_neigh_df.sort_values(\"Neighbourhood\", ascending=False)\n",
    "sorted_bne"
   ]
  },
  {
   "cell_type": "code",
   "execution_count": 7,
   "id": "eca58330",
   "metadata": {},
   "outputs": [
    {
     "data": {
      "text/plain": [
       "<matplotlib.axes._subplots.AxesSubplot at 0x7f8c9f2bf9d0>"
      ]
     },
     "execution_count": 7,
     "metadata": {},
     "output_type": "execute_result"
    },
    {
     "data": {
      "image/png": "[encoded data removed]",
      "text/plain": [
       "<Figure size 432x288 with 1 Axes>"
      ]
     },
     "metadata": {
      "needs_background": "light"
     },
     "output_type": "display_data"
    }
   ],
   "source": [
    "bne_df['Neighbourhood'].value_counts()[:12].plot(kind='barh')\n"
   ]
  },
  {
   "cell_type": "code",
   "execution_count": 8,
   "id": "0006c3e4",
   "metadata": {},
   "outputs": [
    {
     "data": {
      "text/html": [
       "<div>\n",
       "<style scoped>\n",
       "    .dataframe tbody tr th:only-of-type {\n",
       "        vertical-align: middle;\n",
       "    }\n",
       "\n",
       "    .dataframe tbody tr th {\n",
       "        vertical-align: top;\n",
       "    }\n",
       "\n",
       "    .dataframe thead th {\n",
       "        text-align: right;\n",
       "    }\n",
       "</style>\n",
       "<table border=\"1\" class=\"dataframe\">\n",
       "  <thead>\n",
       "    <tr style=\"text-align: right;\">\n",
       "      <th></th>\n",
       "      <th>Neighbourhood</th>\n",
       "    </tr>\n",
       "  </thead>\n",
       "  <tbody>\n",
       "    <tr>\n",
       "      <th>Kensington-Chinatown</th>\n",
       "      <td>2980</td>\n",
       "    </tr>\n",
       "    <tr>\n",
       "      <th>West Humber-Clairville</th>\n",
       "      <td>2820</td>\n",
       "    </tr>\n",
       "    <tr>\n",
       "      <th>Waterfront Communities-The Island</th>\n",
       "      <td>2354</td>\n",
       "    </tr>\n",
       "    <tr>\n",
       "      <th>Church-Yonge Corridor</th>\n",
       "      <td>2057</td>\n",
       "    </tr>\n",
       "    <tr>\n",
       "      <th>Islington-City Centre West</th>\n",
       "      <td>1646</td>\n",
       "    </tr>\n",
       "    <tr>\n",
       "      <th>York University Heights</th>\n",
       "      <td>1478</td>\n",
       "    </tr>\n",
       "    <tr>\n",
       "      <th>Moss Park</th>\n",
       "      <td>1456</td>\n",
       "    </tr>\n",
       "    <tr>\n",
       "      <th>Annex</th>\n",
       "      <td>1357</td>\n",
       "    </tr>\n",
       "    <tr>\n",
       "      <th>Downsview-Roding-CFB</th>\n",
       "      <td>1297</td>\n",
       "    </tr>\n",
       "    <tr>\n",
       "      <th>South Riverdale</th>\n",
       "      <td>1245</td>\n",
       "    </tr>\n",
       "    <tr>\n",
       "      <th>Bay Street Corridor</th>\n",
       "      <td>1197</td>\n",
       "    </tr>\n",
       "    <tr>\n",
       "      <th>Dovercourt-Wallace Emerson-Junction</th>\n",
       "      <td>1185</td>\n",
       "    </tr>\n",
       "  </tbody>\n",
       "</table>\n",
       "</div>"
      ],
      "text/plain": [
       "                                     Neighbourhood\n",
       "Kensington-Chinatown                          2980\n",
       "West Humber-Clairville                        2820\n",
       "Waterfront Communities-The Island             2354\n",
       "Church-Yonge Corridor                         2057\n",
       "Islington-City Centre West                    1646\n",
       "York University Heights                       1478\n",
       "Moss Park                                     1456\n",
       "Annex                                         1357\n",
       "Downsview-Roding-CFB                          1297\n",
       "South Riverdale                               1245\n",
       "Bay Street Corridor                           1197\n",
       "Dovercourt-Wallace Emerson-Junction           1185"
      ]
     },
     "execution_count": 8,
     "metadata": {},
     "output_type": "execute_result"
    }
   ],
   "source": [
    "# Sorting neighbourhoods from most incidents to least in a dataframe\n",
    "\n",
    "theft_by_neig = theft_df['Neighbourhood']\n",
    "\n",
    "theft_neigh = theft_df[\"Neighbourhood\"].value_counts()[:12]\n",
    "theft_neigh_df = pd.DataFrame(theft_neigh)\n",
    "sorted_theft = theft_neigh_df.sort_values(\"Neighbourhood\", ascending=False)\n",
    "sorted_theft"
   ]
  },
  {
   "cell_type": "code",
   "execution_count": 9,
   "id": "1fb8b67d",
   "metadata": {},
   "outputs": [
    {
     "data": {
      "text/plain": [
       "<matplotlib.axes._subplots.AxesSubplot at 0x7f8c9f2d11d0>"
      ]
     },
     "execution_count": 9,
     "metadata": {},
     "output_type": "execute_result"
    },
    {
     "data": {
      "image/png": "[encoded data removed]",
      "text/plain": [
       "<Figure size 432x288 with 1 Axes>"
      ]
     },
     "metadata": {
      "needs_background": "light"
     },
     "output_type": "display_data"
    }
   ],
   "source": [
    "theft_df['Neighbourhood'].value_counts()[:12].plot(kind='barh')\n"
   ]
  },
  {
   "cell_type": "code",
   "execution_count": null,
   "id": "81b7a1bb",
   "metadata": {},
   "outputs": [],
   "source": []
  }
 ],
 "metadata": {
  "kernelspec": {
   "display_name": "PythonData",
   "language": "python",
   "name": "pythondata"
  },
  "language_info": {
   "codemirror_mode": {
    "name": "ipython",
    "version": 3
   },
   "file_extension": ".py",
   "mimetype": "text/x-python",
   "name": "python",
   "nbconvert_exporter": "python",
   "pygments_lexer": "ipython3",
   "version": "3.7.7"
  }
 },
 "nbformat": 4,
 "nbformat_minor": 5
}
