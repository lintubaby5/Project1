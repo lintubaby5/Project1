{
 "cells": [
  {
   "cell_type": "markdown",
   "metadata": {},
   "source": []
  },
  {
   "cell_type": "code",
   "execution_count": 1,
   "metadata": {},
   "outputs": [],
   "source": [
    "import pandas as pd\n",
    "import glob\n",
    "import matplotlib.pyplot as plt\n",
    "import numpy as np\n",
    "%matplotlib inline\n",
    "import requests\n",
    "import json"
   ]
  },
  {
   "cell_type": "code",
   "execution_count": 2,
   "metadata": {},
   "outputs": [],
   "source": [
    "#download the top 3 crimes CSV files\n",
    "#use glob to find all CSV files in a directory\n",
    "all_files = glob.glob(\"Resources/*csv\")"
   ]
  },
  {
   "cell_type": "code",
   "execution_count": 3,
   "metadata": {},
   "outputs": [],
   "source": [
    "#create an empty list to store DataFrames\n",
    "df_list =[]"
   ]
  },
  {
   "cell_type": "code",
   "execution_count": 4,
   "metadata": {},
   "outputs": [],
   "source": [
    "#loop through each file and read it into a DataFrame\n",
    "for file in all_files:\n",
    "    df = pd.read_csv(file)\n",
    "    df_list.append(df)"
   ]
  },
  {
   "cell_type": "code",
   "execution_count": 5,
   "metadata": {},
   "outputs": [],
   "source": [
    "#concatenate the list of DataFrames into a single DataFrame\n",
    "result = pd.concat(df_list, axis=0, ignore_index=True)"
   ]
  },
  {
   "cell_type": "code",
   "execution_count": 6,
   "metadata": {},
   "outputs": [
    {
     "name": "stdout",
     "output_type": "stream",
     "text": [
      "              X             Y  OBJECTID event_unique_id Division  \\\n",
      "0 -8.847703e+06  5.416571e+06       2.0  GO-20141260128      D12   \n",
      "1 -8.837275e+06  5.411569e+06       3.0  GO-20141259483      D52   \n",
      "2 -8.840076e+06  5.413995e+06       5.0  GO-20141260137      D14   \n",
      "3 -8.837968e+06  5.411025e+06       6.0  GO-20141259767      D52   \n",
      "4 -8.837739e+06  5.411304e+06       7.0  GO-20141259762      D52   \n",
      "\n",
      "           occurrencedate            reporteddate  \\\n",
      "0  2014/01/01 05:00:00+00  2014/01/01 05:00:00+00   \n",
      "1  2013/12/31 05:00:00+00  2014/01/01 05:00:00+00   \n",
      "2  2014/01/01 05:00:00+00  2014/01/01 05:00:00+00   \n",
      "3  2014/01/01 05:00:00+00  2014/01/01 05:00:00+00   \n",
      "4  2013/12/31 05:00:00+00  2014/01/01 05:00:00+00   \n",
      "\n",
      "                                       location_type premises_type  ucr_code  \\\n",
      "0  Single Home, House (Attach Garage, Cottage, Mo...         House      1430   \n",
      "1                                   Ttc Subway Train       Transit      1430   \n",
      "2                                 Ttc Subway Station       Transit      1430   \n",
      "3  Streets, Roads, Highways (Bicycle Path, Privat...       Outside      1430   \n",
      "4                                   Bar / Restaurant    Commercial      1430   \n",
      "\n",
      "   ...                      Neighbourhood  Longitude   Latitude ObjectId2  \\\n",
      "0  ...                  Rockcliffe-Smythe -79.480268  43.683360       1.0   \n",
      "1  ...                Bay Street Corridor -79.386589  43.650853       2.0   \n",
      "2  ...                              Annex -79.411749  43.666620       3.0   \n",
      "3  ...  Waterfront Communities-The Island -79.392819  43.647320       4.0   \n",
      "4  ...  Waterfront Communities-The Island -79.390756  43.649131       5.0   \n",
      "\n",
      "   Index_  MCI Long  Lat  ObjectId Offence  \n",
      "0     NaN  NaN  NaN  NaN       NaN     NaN  \n",
      "1     NaN  NaN  NaN  NaN       NaN     NaN  \n",
      "2     NaN  NaN  NaN  NaN       NaN     NaN  \n",
      "3     NaN  NaN  NaN  NaN       NaN     NaN  \n",
      "4     NaN  NaN  NaN  NaN       NaN     NaN  \n",
      "\n",
      "[5 rows x 36 columns]\n"
     ]
    }
   ],
   "source": [
    "print(result.head())"
   ]
  },
  {
   "cell_type": "code",
   "execution_count": 7,
   "metadata": {},
   "outputs": [
    {
     "data": {
      "text/plain": [
       "Index(['X', 'Y', 'OBJECTID', 'event_unique_id', 'Division', 'occurrencedate',\n",
       "       'reporteddate', 'location_type', 'premises_type', 'ucr_code', 'ucr_ext',\n",
       "       'offence', 'reportedyear', 'reportedmonth', 'reportedday',\n",
       "       'reporteddayofyear', 'reporteddayofweek', 'reportedhour',\n",
       "       'occurrenceyear', 'occurrencemonth', 'occurrenceday',\n",
       "       'occurrencedayofyear', 'occurrencedayofweek', 'occurrencehour',\n",
       "       'mci_category', 'Hood_ID', 'Neighbourhood', 'Longitude', 'Latitude',\n",
       "       'ObjectId2', 'Index_', 'MCI', 'Long', 'Lat', 'ObjectId', 'Offence'],\n",
       "      dtype='object')"
      ]
     },
     "execution_count": 7,
     "metadata": {},
     "output_type": "execute_result"
    }
   ],
   "source": [
    "result.columns"
   ]
  },
  {
   "cell_type": "code",
   "execution_count": 8,
   "metadata": {},
   "outputs": [
    {
     "data": {
      "text/plain": [
       "array(['House', 'Transit', 'Outside', 'Commercial', 'Apartment', 'Other',\n",
       "       'Educational'], dtype=object)"
      ]
     },
     "execution_count": 8,
     "metadata": {},
     "output_type": "execute_result"
    }
   ],
   "source": [
    "#Cleaning the data to analyse the premises_type first finding what we have in premises_type\n",
    "result[\"premises_type\"].unique()"
   ]
  },
  {
   "cell_type": "code",
   "execution_count": 9,
   "metadata": {},
   "outputs": [],
   "source": [
    "#changing this to a string \n",
    "def mylower(string,spli_character=\" \"):\n",
    "    return string.lower()"
   ]
  },
  {
   "cell_type": "code",
   "execution_count": 10,
   "metadata": {},
   "outputs": [
    {
     "data": {
      "text/plain": [
       "0              house\n",
       "1            transit\n",
       "2            transit\n",
       "3            outside\n",
       "4         commercial\n",
       "             ...    \n",
       "295208       outside\n",
       "295209       outside\n",
       "295210       outside\n",
       "295211       outside\n",
       "295212       outside\n",
       "Name: premises_type, Length: 295213, dtype: object"
      ]
     },
     "execution_count": 10,
     "metadata": {},
     "output_type": "execute_result"
    }
   ],
   "source": [
    "#demonstrating that this is now a string\n",
    "result[\"premises_type\"].map(mylower)"
   ]
  },
  {
   "cell_type": "code",
   "execution_count": 11,
   "metadata": {},
   "outputs": [
    {
     "data": {
      "text/plain": [
       "X                      float64\n",
       "Y                      float64\n",
       "OBJECTID               float64\n",
       "event_unique_id         object\n",
       "Division                object\n",
       "occurrencedate          object\n",
       "reporteddate            object\n",
       "location_type           object\n",
       "premises_type           object\n",
       "ucr_code                 int64\n",
       "ucr_ext                  int64\n",
       "offence                 object\n",
       "reportedyear             int64\n",
       "reportedmonth           object\n",
       "reportedday              int64\n",
       "reporteddayofyear        int64\n",
       "reporteddayofweek       object\n",
       "reportedhour             int64\n",
       "occurrenceyear         float64\n",
       "occurrencemonth         object\n",
       "occurrenceday          float64\n",
       "occurrencedayofyear    float64\n",
       "occurrencedayofweek     object\n",
       "occurrencehour           int64\n",
       "mci_category            object\n",
       "Hood_ID                 object\n",
       "Neighbourhood           object\n",
       "Longitude              float64\n",
       "Latitude               float64\n",
       "ObjectId2              float64\n",
       "Index_                 float64\n",
       "MCI                     object\n",
       "Long                   float64\n",
       "Lat                    float64\n",
       "ObjectId               float64\n",
       "Offence                 object\n",
       "dtype: object"
      ]
     },
     "execution_count": 11,
     "metadata": {},
     "output_type": "execute_result"
    }
   ],
   "source": [
    "result.dtypes"
   ]
  },
  {
   "cell_type": "code",
   "execution_count": 12,
   "metadata": {},
   "outputs": [],
   "source": [
    "# Get total counting by premises\n",
    "crimes = result[\"premises_type\"].value_counts()"
   ]
  },
  {
   "cell_type": "code",
   "execution_count": 13,
   "metadata": {},
   "outputs": [
    {
     "data": {
      "text/plain": [
       "Outside       83435\n",
       "Apartment     70607\n",
       "House         57454\n",
       "Commercial    48494\n",
       "Other         20460\n",
       "Name: premises_type, dtype: int64"
      ]
     },
     "execution_count": 13,
     "metadata": {},
     "output_type": "execute_result"
    }
   ],
   "source": [
    "crimes.head()"
   ]
  },
  {
   "cell_type": "code",
   "execution_count": 14,
   "metadata": {},
   "outputs": [
    {
     "data": {
      "image/png": "[encoded data removed]",
      "text/plain": [
       "<Figure size 720x360 with 1 Axes>"
      ]
     },
     "metadata": {
      "needs_background": "light"
     },
     "output_type": "display_data"
    },
    {
     "data": {
      "text/plain": [
       "<Figure size 432x288 with 0 Axes>"
      ]
     },
     "metadata": {},
     "output_type": "display_data"
    }
   ],
   "source": [
    "# Use DataFrame.plot() in order to create a bar chart of the data\n",
    "crimes.plot(kind=\"bar\", figsize=(10, 5))\n",
    "\n",
    "# Set a title for the chart\n",
    "plt.title(\"Discover where the crimes are happening in Toronto\")\n",
    "\n",
    "plt.show()\n",
    "plt.tight_layout()"
   ]
  },
  {
   "cell_type": "code",
   "execution_count": 15,
   "metadata": {},
   "outputs": [
    {
     "data": {
      "text/plain": [
       "Index(['X', 'Y', 'OBJECTID', 'event_unique_id', 'Division', 'occurrencedate',\n",
       "       'reporteddate', 'location_type', 'premises_type', 'ucr_code', 'ucr_ext',\n",
       "       'offence', 'reportedyear', 'reportedmonth', 'reportedday',\n",
       "       'reporteddayofyear', 'reporteddayofweek', 'reportedhour',\n",
       "       'occurrenceyear', 'occurrencemonth', 'occurrenceday',\n",
       "       'occurrencedayofyear', 'occurrencedayofweek', 'occurrencehour',\n",
       "       'mci_category', 'Hood_ID', 'Neighbourhood', 'Longitude', 'Latitude',\n",
       "       'ObjectId2'],\n",
       "      dtype='object')"
      ]
     },
     "execution_count": 15,
     "metadata": {},
     "output_type": "execute_result"
    }
   ],
   "source": [
    "#creating bar graphs for each crime\n",
    "assault = \"Resources/Assault.csv\"\n",
    "\n",
    "#Read each CSV separate for each type of crime\n",
    "assault_df = pd.read_csv(assault)\n",
    "\n",
    "# show columns or first lines what is best I don't know\n",
    "assault_df.columns"
   ]
  },
  {
   "cell_type": "code",
   "execution_count": 16,
   "metadata": {},
   "outputs": [
    {
     "data": {
      "text/plain": [
       "array(['House', 'Transit', 'Outside', 'Commercial', 'Apartment', 'Other',\n",
       "       'Educational'], dtype=object)"
      ]
     },
     "execution_count": 16,
     "metadata": {},
     "output_type": "execute_result"
    }
   ],
   "source": [
    "result[\"premises_type\"].unique()"
   ]
  },
  {
   "cell_type": "code",
   "execution_count": 17,
   "metadata": {},
   "outputs": [],
   "source": [
    "#changing this to a string \n",
    "def mylower(string,spli_character=\" \"):\n",
    "    return string.lower()"
   ]
  },
  {
   "cell_type": "code",
   "execution_count": 18,
   "metadata": {},
   "outputs": [
    {
     "data": {
      "text/plain": [
       "0              house\n",
       "1            transit\n",
       "2            transit\n",
       "3            outside\n",
       "4         commercial\n",
       "             ...    \n",
       "295208       outside\n",
       "295209       outside\n",
       "295210       outside\n",
       "295211       outside\n",
       "295212       outside\n",
       "Name: premises_type, Length: 295213, dtype: object"
      ]
     },
     "execution_count": 18,
     "metadata": {},
     "output_type": "execute_result"
    }
   ],
   "source": [
    "#demonstrating that this is now a string\n",
    "result[\"premises_type\"].map(mylower)"
   ]
  },
  {
   "cell_type": "code",
   "execution_count": 19,
   "metadata": {},
   "outputs": [
    {
     "data": {
      "text/plain": [
       "X                      float64\n",
       "Y                      float64\n",
       "OBJECTID               float64\n",
       "event_unique_id         object\n",
       "Division                object\n",
       "occurrencedate          object\n",
       "reporteddate            object\n",
       "location_type           object\n",
       "premises_type           object\n",
       "ucr_code                 int64\n",
       "ucr_ext                  int64\n",
       "offence                 object\n",
       "reportedyear             int64\n",
       "reportedmonth           object\n",
       "reportedday              int64\n",
       "reporteddayofyear        int64\n",
       "reporteddayofweek       object\n",
       "reportedhour             int64\n",
       "occurrenceyear         float64\n",
       "occurrencemonth         object\n",
       "occurrenceday          float64\n",
       "occurrencedayofyear    float64\n",
       "occurrencedayofweek     object\n",
       "occurrencehour           int64\n",
       "mci_category            object\n",
       "Hood_ID                 object\n",
       "Neighbourhood           object\n",
       "Longitude              float64\n",
       "Latitude               float64\n",
       "ObjectId2              float64\n",
       "Index_                 float64\n",
       "MCI                     object\n",
       "Long                   float64\n",
       "Lat                    float64\n",
       "ObjectId               float64\n",
       "Offence                 object\n",
       "dtype: object"
      ]
     },
     "execution_count": 19,
     "metadata": {},
     "output_type": "execute_result"
    }
   ],
   "source": [
    "result.dtypes"
   ]
  },
  {
   "cell_type": "code",
   "execution_count": 20,
   "metadata": {},
   "outputs": [
    {
     "data": {
      "text/plain": [
       "Outside       83435\n",
       "Apartment     70607\n",
       "House         57454\n",
       "Commercial    48494\n",
       "Other         20460\n",
       "Name: premises_type, dtype: int64"
      ]
     },
     "execution_count": 20,
     "metadata": {},
     "output_type": "execute_result"
    }
   ],
   "source": [
    "crime1 = result[\"premises_type\"].value_counts()\n",
    "crime1.head()"
   ]
  },
  {
   "cell_type": "code",
   "execution_count": 21,
   "metadata": {},
   "outputs": [
    {
     "data": {
      "image/png": "[encoded data removed]",
      "text/plain": [
       "<Figure size 720x360 with 1 Axes>"
      ]
     },
     "metadata": {
      "needs_background": "light"
     },
     "output_type": "display_data"
    },
    {
     "data": {
      "text/plain": [
       "<Figure size 432x288 with 0 Axes>"
      ]
     },
     "metadata": {},
     "output_type": "display_data"
    }
   ],
   "source": [
    "# Use DataFrame.plot() in order to create a bar chart of the data\n",
    "crime1.plot(kind=\"bar\", figsize=(10, 5))\n",
    "\n",
    "# Set a title for the chart\n",
    "plt.title(\"Where the Assaults in Toronto are happening ?\")\n",
    "\n",
    "plt.show()\n",
    "plt.tight_layout()"
   ]
  },
  {
   "cell_type": "code",
   "execution_count": 22,
   "metadata": {},
   "outputs": [
    {
     "data": {
      "text/plain": [
       "Index(['X', 'Y', 'Index_', 'event_unique_id', 'Division', 'occurrencedate',\n",
       "       'reporteddate', 'location_type', 'premises_type', 'ucr_code', 'ucr_ext',\n",
       "       'Offence', 'reportedyear', 'reportedmonth', 'reportedday',\n",
       "       'reporteddayofyear', 'reporteddayofweek', 'reportedhour',\n",
       "       'occurrenceyear', 'occurrencemonth', 'occurrenceday',\n",
       "       'occurrencedayofyear', 'occurrencedayofweek', 'occurrencehour',\n",
       "       'mci_category', 'Hood_ID', 'Neighbourhood', 'Longitude', 'Latitude',\n",
       "       'ObjectId'],\n",
       "      dtype='object')"
      ]
     },
     "execution_count": 22,
     "metadata": {},
     "output_type": "execute_result"
    }
   ],
   "source": [
    "#creating bar graphs for each crime\n",
    "tmv = \"Resources/Theft_from_Motor_Vehicle.csv\"\n",
    "\n",
    "#Read each CSV separate for each type of crime\n",
    "tmv_df = pd.read_csv(tmv)\n",
    "\n",
    "# show columns or first lines what is best I don't know\n",
    "tmv_df.columns"
   ]
  },
  {
   "cell_type": "code",
   "execution_count": 23,
   "metadata": {},
   "outputs": [
    {
     "data": {
      "text/plain": [
       "array(['House', 'Transit', 'Outside', 'Commercial', 'Apartment', 'Other',\n",
       "       'Educational'], dtype=object)"
      ]
     },
     "execution_count": 23,
     "metadata": {},
     "output_type": "execute_result"
    }
   ],
   "source": [
    "result[\"premises_type\"].unique()"
   ]
  },
  {
   "cell_type": "code",
   "execution_count": 24,
   "metadata": {},
   "outputs": [],
   "source": [
    "#changing this to a string \n",
    "def mylower(string,spli_character=\" \"):\n",
    "    return string.lower()"
   ]
  },
  {
   "cell_type": "code",
   "execution_count": 25,
   "metadata": {},
   "outputs": [
    {
     "data": {
      "text/plain": [
       "Outside       83435\n",
       "Apartment     70607\n",
       "House         57454\n",
       "Commercial    48494\n",
       "Other         20460\n",
       "Name: premises_type, dtype: int64"
      ]
     },
     "execution_count": 25,
     "metadata": {},
     "output_type": "execute_result"
    }
   ],
   "source": [
    "crime2 = result[\"premises_type\"].value_counts()\n",
    "crime2.head()"
   ]
  },
  {
   "cell_type": "code",
   "execution_count": 26,
   "metadata": {},
   "outputs": [
    {
     "data": {
      "image/png": "[encoded data removed]",
      "text/plain": [
       "<Figure size 720x360 with 1 Axes>"
      ]
     },
     "metadata": {
      "needs_background": "light"
     },
     "output_type": "display_data"
    },
    {
     "data": {
      "text/plain": [
       "<Figure size 432x288 with 0 Axes>"
      ]
     },
     "metadata": {},
     "output_type": "display_data"
    }
   ],
   "source": [
    "# Use DataFrame.plot() in order to create a bar chart of the data\n",
    "crime2.plot(kind=\"bar\", figsize=(10, 5))\n",
    "\n",
    "# Set a title for the chart\n",
    "plt.title(\"In what premisses Thefts from Motor Vehicle in Toronto are happening ?\")\n",
    "\n",
    "plt.show()\n",
    "plt.tight_layout()"
   ]
  },
  {
   "cell_type": "code",
   "execution_count": 27,
   "metadata": {},
   "outputs": [
    {
     "data": {
      "text/plain": [
       "Index(['X', 'Y', 'Index_', 'event_unique_id', 'Division', 'occurrencedate',\n",
       "       'reporteddate', 'location_type', 'premises_type', 'ucr_code', 'ucr_ext',\n",
       "       'offence', 'reportedyear', 'reportedmonth', 'reportedday',\n",
       "       'reporteddayofyear', 'reporteddayofweek', 'reportedhour',\n",
       "       'occurrenceyear', 'occurrencemonth', 'occurrenceday',\n",
       "       'occurrencedayofyear', 'occurrencedayofweek', 'occurrencehour', 'MCI',\n",
       "       'Hood_ID', 'Neighbourhood', 'Long', 'Lat', 'ObjectId'],\n",
       "      dtype='object')"
      ]
     },
     "execution_count": 27,
     "metadata": {},
     "output_type": "execute_result"
    }
   ],
   "source": [
    "#creating bar graphs for each crime\n",
    "be = \"Resources/Break_and_Enter.csv\"\n",
    "\n",
    "#Read each CSV separate for each type of crime\n",
    "be_df = pd.read_csv(be)\n",
    "\n",
    "# show columns or first lines what is best I don't know\n",
    "be_df.columns"
   ]
  },
  {
   "cell_type": "code",
   "execution_count": 28,
   "metadata": {},
   "outputs": [
    {
     "data": {
      "text/plain": [
       "array(['House', 'Transit', 'Outside', 'Commercial', 'Apartment', 'Other',\n",
       "       'Educational'], dtype=object)"
      ]
     },
     "execution_count": 28,
     "metadata": {},
     "output_type": "execute_result"
    }
   ],
   "source": [
    "result[\"premises_type\"].unique()"
   ]
  },
  {
   "cell_type": "code",
   "execution_count": 29,
   "metadata": {},
   "outputs": [],
   "source": [
    "#changing this to a string \n",
    "def mylower(string,spli_character=\" \"):\n",
    "    return string.lower()"
   ]
  },
  {
   "cell_type": "code",
   "execution_count": 30,
   "metadata": {},
   "outputs": [
    {
     "data": {
      "text/plain": [
       "0              house\n",
       "1            transit\n",
       "2            transit\n",
       "3            outside\n",
       "4         commercial\n",
       "             ...    \n",
       "295208       outside\n",
       "295209       outside\n",
       "295210       outside\n",
       "295211       outside\n",
       "295212       outside\n",
       "Name: premises_type, Length: 295213, dtype: object"
      ]
     },
     "execution_count": 30,
     "metadata": {},
     "output_type": "execute_result"
    }
   ],
   "source": [
    "#demonstrating that this is now a string\n",
    "result[\"premises_type\"].map(mylower)"
   ]
  },
  {
   "cell_type": "code",
   "execution_count": 31,
   "metadata": {},
   "outputs": [
    {
     "data": {
      "text/plain": [
       "Outside       83435\n",
       "Apartment     70607\n",
       "House         57454\n",
       "Commercial    48494\n",
       "Other         20460\n",
       "Name: premises_type, dtype: int64"
      ]
     },
     "execution_count": 31,
     "metadata": {},
     "output_type": "execute_result"
    }
   ],
   "source": [
    "crime3 = result[\"premises_type\"].value_counts()\n",
    "crime3.head()"
   ]
  },
  {
   "cell_type": "code",
   "execution_count": 32,
   "metadata": {},
   "outputs": [
    {
     "data": {
      "image/png": "[encoded data removed]",
      "text/plain": [
       "<Figure size 720x360 with 1 Axes>"
      ]
     },
     "metadata": {
      "needs_background": "light"
     },
     "output_type": "display_data"
    },
    {
     "data": {
      "text/plain": [
       "<Figure size 432x288 with 0 Axes>"
      ]
     },
     "metadata": {},
     "output_type": "display_data"
    }
   ],
   "source": [
    "# Use DataFrame.plot() in order to create a bar chart of the data\n",
    "crime3.plot(kind=\"bar\", figsize=(10, 5))\n",
    "\n",
    "# Set a title for the chart\n",
    "plt.title(\"The Premises of Breaks and Enters in Toronto\")\n",
    "\n",
    "plt.show()\n",
    "plt.tight_layout()"
   ]
  }
 ],
 "metadata": {
  "kernelspec": {
   "display_name": "PythonData",
   "language": "python",
   "name": "pythondata"
  },
  "language_info": {
   "codemirror_mode": {
    "name": "ipython",
    "version": 3
   },
   "file_extension": ".py",
   "mimetype": "text/x-python",
   "name": "python",
   "nbconvert_exporter": "python",
   "pygments_lexer": "ipython3",
   "version": "3.7.7"
  },
  "vscode": {
   "interpreter": {
    "hash": "9637e1cd7ce74fff7e44f2d0a91e5e223ce24f1b4cd9e266e92fad6571fbdcef"
   }
  }
 },
 "nbformat": 4,
 "nbformat_minor": 2
}
