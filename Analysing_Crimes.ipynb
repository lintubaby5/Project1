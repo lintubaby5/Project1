{
 "cells": [
  {
   "cell_type": "code",
   "execution_count": 1,
   "id": "546c0cf9",
   "metadata": {},
   "outputs": [],
   "source": [
    "import pandas as pd\n",
    "import requests"
   ]
  },
  {
   "cell_type": "code",
   "execution_count": 2,
   "id": "49ee1b90",
   "metadata": {},
   "outputs": [
    {
     "data": {
      "text/html": [
       "<div>\n",
       "<style scoped>\n",
       "    .dataframe tbody tr th:only-of-type {\n",
       "        vertical-align: middle;\n",
       "    }\n",
       "\n",
       "    .dataframe tbody tr th {\n",
       "        vertical-align: top;\n",
       "    }\n",
       "\n",
       "    .dataframe thead th {\n",
       "        text-align: right;\n",
       "    }\n",
       "</style>\n",
       "<table border=\"1\" class=\"dataframe\">\n",
       "  <thead>\n",
       "    <tr style=\"text-align: right;\">\n",
       "      <th></th>\n",
       "      <th>type</th>\n",
       "      <th>Count of crimes</th>\n",
       "    </tr>\n",
       "  </thead>\n",
       "  <tbody>\n",
       "    <tr>\n",
       "      <th>0</th>\n",
       "      <td>Assault</td>\n",
       "      <td>161833</td>\n",
       "    </tr>\n",
       "    <tr>\n",
       "      <th>1</th>\n",
       "      <td>Auto_Theft</td>\n",
       "      <td>40794</td>\n",
       "    </tr>\n",
       "    <tr>\n",
       "      <th>2</th>\n",
       "      <td>Break_and_Enter</td>\n",
       "      <td>56466</td>\n",
       "    </tr>\n",
       "    <tr>\n",
       "      <th>3</th>\n",
       "      <td>Homicide_ASR_RC_TBL_002</td>\n",
       "      <td>1286</td>\n",
       "    </tr>\n",
       "    <tr>\n",
       "      <th>4</th>\n",
       "      <td>Robbery</td>\n",
       "      <td>29230</td>\n",
       "    </tr>\n",
       "    <tr>\n",
       "      <th>5</th>\n",
       "      <td>Theft_Over</td>\n",
       "      <td>9936</td>\n",
       "    </tr>\n",
       "    <tr>\n",
       "      <th>6</th>\n",
       "      <td>Bicycle_Thefts</td>\n",
       "      <td>30154</td>\n",
       "    </tr>\n",
       "    <tr>\n",
       "      <th>7</th>\n",
       "      <td>Shootings_and_Firearm_Discharges</td>\n",
       "      <td>5535</td>\n",
       "    </tr>\n",
       "    <tr>\n",
       "      <th>8</th>\n",
       "      <td>Theft_from_Motor_Vehicle</td>\n",
       "      <td>76914</td>\n",
       "    </tr>\n",
       "  </tbody>\n",
       "</table>\n",
       "</div>"
      ],
      "text/plain": [
       "                               type  Count of crimes\n",
       "0                           Assault           161833\n",
       "1                        Auto_Theft            40794\n",
       "2                   Break_and_Enter            56466\n",
       "3           Homicide_ASR_RC_TBL_002             1286\n",
       "4                           Robbery            29230\n",
       "5                        Theft_Over             9936\n",
       "6                    Bicycle_Thefts            30154\n",
       "7  Shootings_and_Firearm_Discharges             5535\n",
       "8          Theft_from_Motor_Vehicle            76914"
      ]
     },
     "execution_count": 2,
     "metadata": {},
     "output_type": "execute_result"
    }
   ],
   "source": [
    "types=[\"Assault\",\"Auto_Theft\",\"Break_and_Enter\",\"Homicide_ASR_RC_TBL_002\",\"Robbery\",\"Theft_Over\",\"Bicycle_Thefts\",\"Shootings_and_Firearm_Discharges\"\n",
    "     ,\"Theft_from_Motor_Vehicle\"]\n",
    "count=[]\n",
    "for types1 in types:\n",
    "    try:\n",
    "        url=f\"https://services.arcgis.com/S9th0jAJ7bqgIRjw/arcgis/rest/services/{types1}/FeatureServer/0/query?where=1%3D1&outFields=*&returnIdsOnly=true&outSR=4326&f=json\"\n",
    "        response_json=requests.get(url).json()\n",
    "        count.append(response_json[\"objectIds\"][-1])\n",
    "    except:\n",
    "        print(\"Cant find\")\n",
    "count_df=pd.DataFrame({\"type\":types,\"Count of crimes\":count})\n",
    "count_df"
   ]
  },
  {
   "cell_type": "code",
   "execution_count": null,
   "id": "c44dcf27",
   "metadata": {},
   "outputs": [],
   "source": []
  }
 ],
 "metadata": {
  "kernelspec": {
   "display_name": "PythonData",
   "language": "python",
   "name": "pythondata"
  },
  "language_info": {
   "codemirror_mode": {
    "name": "ipython",
    "version": 3
   },
   "file_extension": ".py",
   "mimetype": "text/x-python",
   "name": "python",
   "nbconvert_exporter": "python",
   "pygments_lexer": "ipython3",
   "version": "3.7.7"
  }
 },
 "nbformat": 4,
 "nbformat_minor": 5
}
