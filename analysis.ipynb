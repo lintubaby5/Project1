{
 "cells": [
  {
   "cell_type": "markdown",
   "metadata": {},
   "source": []
  },
  {
   "cell_type": "code",
   "execution_count": null,
   "metadata": {},
   "outputs": [],
   "source": [
    "import pandas as pd\n",
    "import glob\n",
    "import matplotlib.pyplot as plt\n",
    "import numpy as np\n",
    "%matplotlib notebook\n",
    "import requests\n",
    "import json"
   ]
  },
  {
   "cell_type": "code",
   "execution_count": null,
   "metadata": {},
   "outputs": [],
   "source": [
    "# Make a request to the API address from Toronto Police Department\n",
    "response = requests.get(\"https://services.arcgis.com/S9th0jAJ7bqgIRjw/arcgis/rest/services/Major_Crime_Indicators/FeatureServer/0/query?outFields=*&where=1%3D1&f=geojson\")"
   ]
  },
  {
   "cell_type": "code",
   "execution_count": null,
   "metadata": {},
   "outputs": [],
   "source": [
    "#make sure that the request worked well\n",
    "if response.status_code==200:\n",
    "    data =response.json()\n",
    "    formatted_data =json.dumps(data, indent=4, sort_keys=True)\n",
    "    print(formatted_data)\n",
    "else:\n",
    "    print(\"Failed to retrieve the data from the Toronto Police API\")"
   ]
  },
  {
   "cell_type": "code",
   "execution_count": null,
   "metadata": {},
   "outputs": [],
   "source": [
    "#Count the number of crimes\n",
    "crimes_count = len(data[\"features\"])\n"
   ]
  },
  {
   "cell_type": "code",
   "execution_count": null,
   "metadata": {},
   "outputs": [],
   "source": [
    "#Print the number of crimes\n",
    "print(f\"features:{crimes_count}\")"
   ]
  },
  {
   "cell_type": "code",
   "execution_count": null,
   "metadata": {},
   "outputs": [],
   "source": [
    "#create a variable to call the json for each crime type\n",
    "types=[\"Assault\",\"Auto_Theft\",\"Break_and_Enter\",\"Homicide_ASR_RC_TBL_002\",\"Robbery\",\"Theft_Over\",\"Bicycle_Thefts\",\"Shootings_and_Firearm_Discharges\"\n",
    "     ,\"Theft_from_Motor_Vehicle\"]\n",
    "#variable to store the sum of each crime types\n",
    "count=[]\n",
    "#loop through each of the crime types to call the json to extract the total no of crimes\n",
    "for types1 in types:\n",
    "    try:\n",
    "        url=f\"https://services.arcgis.com/S9th0jAJ7bqgIRjw/arcgis/rest/services/{types1}/FeatureServer/0/query?where=1%3D1&outFields=*&returnIdsOnly=true&outSR=4326&f=json\"\n",
    "        response_json=requests.get(url).json()\n",
    "        count.append(response_json[\"objectIds\"][-1])\n",
    "    except:\n",
    "        print(\"Cant find\")"
   ]
  },
  {
   "cell_type": "code",
   "execution_count": null,
   "metadata": {},
   "outputs": [],
   "source": [
    "#Create data frame to store crime total for each of the crime type\n",
    "count_df=pd.DataFrame({\"What Crime Happened \":types,\"Count of crimes\":count})\n",
    "count_df=count_df.sort_values(\"Count of crimes\",ascending=False)\n",
    "count_df"
   ]
  },
  {
   "cell_type": "code",
   "execution_count": null,
   "metadata": {},
   "outputs": [],
   "source": [
    "#download the top 3 crimes CSV files\n",
    "#use glob to find all CSV files in a directory\n",
    "all_files = glob.glob(\"*csv\")"
   ]
  },
  {
   "cell_type": "code",
   "execution_count": null,
   "metadata": {},
   "outputs": [],
   "source": [
    "#create an empty list to store DataFrames\n",
    "df_list =[]"
   ]
  },
  {
   "cell_type": "code",
   "execution_count": null,
   "metadata": {},
   "outputs": [],
   "source": [
    "#loop through each file and read it into a DataFrame\n",
    "for file in all_files:\n",
    "    df = pd.read_csv(file)\n",
    "    df_list.append(df)"
   ]
  },
  {
   "cell_type": "code",
   "execution_count": null,
   "metadata": {},
   "outputs": [],
   "source": [
    "#concatenate the list of DataFrames into a single DataFrame\n",
    "result = pd.concat(df_list, axis=0, ignore_index=True)"
   ]
  },
  {
   "cell_type": "code",
   "execution_count": null,
   "metadata": {},
   "outputs": [],
   "source": [
    "print(result.head())"
   ]
  },
  {
   "cell_type": "code",
   "execution_count": null,
   "metadata": {},
   "outputs": [],
   "source": [
    "result.columns"
   ]
  },
  {
   "cell_type": "code",
   "execution_count": null,
   "metadata": {},
   "outputs": [],
   "source": [
    "#Cleaning the data to analyse the premises_type first finding what we have in premises_type\n",
    "result[\"premises_type\"].unique()"
   ]
  },
  {
   "cell_type": "code",
   "execution_count": null,
   "metadata": {},
   "outputs": [],
   "source": [
    "#changing this to a string \n",
    "def mylower(string,spli_character=\" \"):\n",
    "    return string.lower()"
   ]
  },
  {
   "cell_type": "code",
   "execution_count": null,
   "metadata": {},
   "outputs": [],
   "source": [
    "#demonstrating that this is now a string\n",
    "result[\"premises_type\"].map(mylower)"
   ]
  },
  {
   "cell_type": "code",
   "execution_count": null,
   "metadata": {},
   "outputs": [],
   "source": [
    "result.dtypes"
   ]
  },
  {
   "cell_type": "code",
   "execution_count": null,
   "metadata": {},
   "outputs": [],
   "source": [
    "# Get total counting by premises\n",
    "crimes = result[\"premises_type\"].value_counts()"
   ]
  },
  {
   "cell_type": "code",
   "execution_count": null,
   "metadata": {},
   "outputs": [],
   "source": [
    "crimes.head()"
   ]
  },
  {
   "cell_type": "code",
   "execution_count": null,
   "metadata": {},
   "outputs": [],
   "source": [
    "# Use DataFrame.plot() in order to create a bar chart of the data\n",
    "crimes.plot(kind=\"bar\", figsize=(10, 5))\n",
    "\n",
    "# Set a title for the chart\n",
    "plt.title(\"Crimes in Toronto\")\n",
    "\n",
    "plt.show()\n",
    "plt.tight_layout()"
   ]
  },
  {
   "cell_type": "code",
   "execution_count": null,
   "metadata": {},
   "outputs": [],
   "source": []
  },
  {
   "cell_type": "code",
   "execution_count": null,
   "metadata": {},
   "outputs": [],
   "source": []
  }
 ],
 "metadata": {
  "kernelspec": {
   "display_name": "PythonData",
   "language": "python",
   "name": "pythondata"
  },
  "language_info": {
   "codemirror_mode": {
    "name": "ipython",
    "version": 3
   },
   "file_extension": ".py",
   "mimetype": "text/x-python",
   "name": "python",
   "nbconvert_exporter": "python",
   "pygments_lexer": "ipython3",
   "version": "3.7.7"
  },
  "vscode": {
   "interpreter": {
    "hash": "9637e1cd7ce74fff7e44f2d0a91e5e223ce24f1b4cd9e266e92fad6571fbdcef"
   }
  }
 },
 "nbformat": 4,
 "nbformat_minor": 2
}
