{
 "cells": [
  {
   "cell_type": "code",
   "execution_count": 1,
   "id": "d048d150",
   "metadata": {},
   "outputs": [],
   "source": [
    "import pandas as pd\n",
    "from matplotlib import pyplot as plt\n",
    "from scipy import stats\n",
    "from mpldatacursor import datacursor"
   ]
  },
  {
   "cell_type": "code",
   "execution_count": 2,
   "id": "fa056dd1",
   "metadata": {},
   "outputs": [],
   "source": [
    "#CSV path for the file for each crime\n",
    "assault_csv_path='Resources/Assault.csv'\n",
    "BnE_csv_path='Resources/Break_and_Enter.csv'\n",
    "TfV_csv_path='Resources/Theft_from_Motor_Vehicle.csv'"
   ]
  },
  {
   "cell_type": "code",
   "execution_count": 3,
   "id": "1d5f26e1",
   "metadata": {},
   "outputs": [
    {
     "name": "stderr",
     "output_type": "stream",
     "text": [
      "C:\\Users\\lintu\\anaconda3\\envs\\PythonData\\lib\\site-packages\\IPython\\core\\interactiveshell.py:3186: DtypeWarning: Columns (0,1,2,4,6,9) have mixed types.Specify dtype option on import or set low_memory=False.\n",
      "  interactivity=interactivity, compiler=compiler, result=result)\n"
     ]
    }
   ],
   "source": [
    "#read from each CSV to dataframes\n",
    "assault_df=pd.read_csv(assault_csv_path)\n",
    "BnE_df=pd.read_csv(BnE_csv_path)\n",
    "TfV_df=pd.read_csv(TfV_csv_path)"
   ]
  },
  {
   "cell_type": "code",
   "execution_count": 4,
   "id": "bd537ab7",
   "metadata": {},
   "outputs": [],
   "source": [
    "#Drop NA columns and convert year from float to integer to better plotting\n",
    "assault_df=assault_df.dropna()\n",
    "assault_df=assault_df.astype({\"occurrenceyear\":\"int\"})\n",
    "BnE_df=BnE_df.dropna()\n",
    "BnE_df=BnE_df.astype({\"occurrenceyear\":\"int\"})\n",
    "TfV_df=TfV_df.dropna()\n",
    "TfV_df=TfV_df.astype({\"occurrenceyear\":\"int\"})"
   ]
  },
  {
   "cell_type": "code",
   "execution_count": 5,
   "id": "d57be3ce",
   "metadata": {},
   "outputs": [],
   "source": [
    "merged_df = pd.concat([assault_df,BnE_df,TfV_df])"
   ]
  },
  {
   "cell_type": "code",
   "execution_count": 6,
   "id": "a10d5b72",
   "metadata": {
    "scrolled": true
   },
   "outputs": [
    {
     "data": {
      "text/html": [
       "<div>\n",
       "<style scoped>\n",
       "    .dataframe tbody tr th:only-of-type {\n",
       "        vertical-align: middle;\n",
       "    }\n",
       "\n",
       "    .dataframe tbody tr th {\n",
       "        vertical-align: top;\n",
       "    }\n",
       "\n",
       "    .dataframe thead th {\n",
       "        text-align: right;\n",
       "    }\n",
       "</style>\n",
       "<table border=\"1\" class=\"dataframe\">\n",
       "  <thead>\n",
       "    <tr style=\"text-align: right;\">\n",
       "      <th></th>\n",
       "      <th>occurrenceyear</th>\n",
       "      <th>Total Crimes</th>\n",
       "    </tr>\n",
       "  </thead>\n",
       "  <tbody>\n",
       "    <tr>\n",
       "      <th>0</th>\n",
       "      <td>2014</td>\n",
       "      <td>16820</td>\n",
       "    </tr>\n",
       "    <tr>\n",
       "      <th>1</th>\n",
       "      <td>2015</td>\n",
       "      <td>18128</td>\n",
       "    </tr>\n",
       "    <tr>\n",
       "      <th>2</th>\n",
       "      <td>2016</td>\n",
       "      <td>19009</td>\n",
       "    </tr>\n",
       "    <tr>\n",
       "      <th>3</th>\n",
       "      <td>2017</td>\n",
       "      <td>19631</td>\n",
       "    </tr>\n",
       "    <tr>\n",
       "      <th>4</th>\n",
       "      <td>2018</td>\n",
       "      <td>19919</td>\n",
       "    </tr>\n",
       "    <tr>\n",
       "      <th>5</th>\n",
       "      <td>2019</td>\n",
       "      <td>20932</td>\n",
       "    </tr>\n",
       "    <tr>\n",
       "      <th>6</th>\n",
       "      <td>2020</td>\n",
       "      <td>18180</td>\n",
       "    </tr>\n",
       "    <tr>\n",
       "      <th>7</th>\n",
       "      <td>2021</td>\n",
       "      <td>18671</td>\n",
       "    </tr>\n",
       "  </tbody>\n",
       "</table>\n",
       "</div>"
      ],
      "text/plain": [
       "   occurrenceyear  Total Crimes\n",
       "0            2014         16820\n",
       "1            2015         18128\n",
       "2            2016         19009\n",
       "3            2017         19631\n",
       "4            2018         19919\n",
       "5            2019         20932\n",
       "6            2020         18180\n",
       "7            2021         18671"
      ]
     },
     "execution_count": 6,
     "metadata": {},
     "output_type": "execute_result"
    }
   ],
   "source": [
    "Assault_Crime_by_the_year = assault_df.groupby([\"occurrenceyear\"])[\"event_unique_id\"].count()\n",
    "Assault_Crime_by_the_year=pd.DataFrame(Assault_Crime_by_the_year[14:22])\n",
    "Assault_Crime_by_the_year=Assault_Crime_by_the_year.rename(columns={\"event_unique_id\":\"Total Crimes\"})\n",
    "Assault_Crime_by_the_year = Assault_Crime_by_the_year.reset_index(level=0)\n",
    "Assault_Crime_by_the_year"
   ]
  },
  {
   "cell_type": "code",
   "execution_count": 7,
   "id": "ad883df4",
   "metadata": {},
   "outputs": [
    {
     "data": {
      "text/html": [
       "<div>\n",
       "<style scoped>\n",
       "    .dataframe tbody tr th:only-of-type {\n",
       "        vertical-align: middle;\n",
       "    }\n",
       "\n",
       "    .dataframe tbody tr th {\n",
       "        vertical-align: top;\n",
       "    }\n",
       "\n",
       "    .dataframe thead th {\n",
       "        text-align: right;\n",
       "    }\n",
       "</style>\n",
       "<table border=\"1\" class=\"dataframe\">\n",
       "  <thead>\n",
       "    <tr style=\"text-align: right;\">\n",
       "      <th></th>\n",
       "      <th>occurrenceyear</th>\n",
       "      <th>Total Crimes</th>\n",
       "    </tr>\n",
       "  </thead>\n",
       "  <tbody>\n",
       "    <tr>\n",
       "      <th>0</th>\n",
       "      <td>2014</td>\n",
       "      <td>7230</td>\n",
       "    </tr>\n",
       "    <tr>\n",
       "      <th>1</th>\n",
       "      <td>2015</td>\n",
       "      <td>6939</td>\n",
       "    </tr>\n",
       "    <tr>\n",
       "      <th>2</th>\n",
       "      <td>2016</td>\n",
       "      <td>6434</td>\n",
       "    </tr>\n",
       "    <tr>\n",
       "      <th>3</th>\n",
       "      <td>2017</td>\n",
       "      <td>6936</td>\n",
       "    </tr>\n",
       "    <tr>\n",
       "      <th>4</th>\n",
       "      <td>2018</td>\n",
       "      <td>7651</td>\n",
       "    </tr>\n",
       "    <tr>\n",
       "      <th>5</th>\n",
       "      <td>2019</td>\n",
       "      <td>8573</td>\n",
       "    </tr>\n",
       "    <tr>\n",
       "      <th>6</th>\n",
       "      <td>2020</td>\n",
       "      <td>6952</td>\n",
       "    </tr>\n",
       "    <tr>\n",
       "      <th>7</th>\n",
       "      <td>2021</td>\n",
       "      <td>5658</td>\n",
       "    </tr>\n",
       "  </tbody>\n",
       "</table>\n",
       "</div>"
      ],
      "text/plain": [
       "   occurrenceyear  Total Crimes\n",
       "0            2014          7230\n",
       "1            2015          6939\n",
       "2            2016          6434\n",
       "3            2017          6936\n",
       "4            2018          7651\n",
       "5            2019          8573\n",
       "6            2020          6952\n",
       "7            2021          5658"
      ]
     },
     "execution_count": 7,
     "metadata": {},
     "output_type": "execute_result"
    }
   ],
   "source": [
    "BnE_Crime_by_the_year = BnE_df.groupby([\"occurrenceyear\"])[\"event_unique_id\"].count()\n",
    "BnE_Crime_by_the_year=pd.DataFrame(BnE_Crime_by_the_year[7:15])\n",
    "BnE_Crime_by_the_year=BnE_Crime_by_the_year.rename(columns={\"event_unique_id\":\"Total Crimes\"})\n",
    "BnE_Crime_by_the_year=BnE_Crime_by_the_year.reset_index(level=0)\n",
    "BnE_Crime_by_the_year"
   ]
  },
  {
   "cell_type": "code",
   "execution_count": 8,
   "id": "93549341",
   "metadata": {},
   "outputs": [
    {
     "data": {
      "text/html": [
       "<div>\n",
       "<style scoped>\n",
       "    .dataframe tbody tr th:only-of-type {\n",
       "        vertical-align: middle;\n",
       "    }\n",
       "\n",
       "    .dataframe tbody tr th {\n",
       "        vertical-align: top;\n",
       "    }\n",
       "\n",
       "    .dataframe thead th {\n",
       "        text-align: right;\n",
       "    }\n",
       "</style>\n",
       "<table border=\"1\" class=\"dataframe\">\n",
       "  <thead>\n",
       "    <tr style=\"text-align: right;\">\n",
       "      <th></th>\n",
       "      <th>occurrenceyear</th>\n",
       "      <th>Total Crimes</th>\n",
       "    </tr>\n",
       "  </thead>\n",
       "  <tbody>\n",
       "    <tr>\n",
       "      <th>0</th>\n",
       "      <td>2014</td>\n",
       "      <td>9715</td>\n",
       "    </tr>\n",
       "    <tr>\n",
       "      <th>1</th>\n",
       "      <td>2015</td>\n",
       "      <td>8796</td>\n",
       "    </tr>\n",
       "    <tr>\n",
       "      <th>2</th>\n",
       "      <td>2016</td>\n",
       "      <td>7748</td>\n",
       "    </tr>\n",
       "    <tr>\n",
       "      <th>3</th>\n",
       "      <td>2017</td>\n",
       "      <td>8438</td>\n",
       "    </tr>\n",
       "    <tr>\n",
       "      <th>4</th>\n",
       "      <td>2018</td>\n",
       "      <td>9122</td>\n",
       "    </tr>\n",
       "    <tr>\n",
       "      <th>5</th>\n",
       "      <td>2019</td>\n",
       "      <td>9939</td>\n",
       "    </tr>\n",
       "    <tr>\n",
       "      <th>6</th>\n",
       "      <td>2020</td>\n",
       "      <td>10260</td>\n",
       "    </tr>\n",
       "    <tr>\n",
       "      <th>7</th>\n",
       "      <td>2021</td>\n",
       "      <td>8188</td>\n",
       "    </tr>\n",
       "  </tbody>\n",
       "</table>\n",
       "</div>"
      ],
      "text/plain": [
       "   occurrenceyear  Total Crimes\n",
       "0            2014          9715\n",
       "1            2015          8796\n",
       "2            2016          7748\n",
       "3            2017          8438\n",
       "4            2018          9122\n",
       "5            2019          9939\n",
       "6            2020         10260\n",
       "7            2021          8188"
      ]
     },
     "execution_count": 8,
     "metadata": {},
     "output_type": "execute_result"
    }
   ],
   "source": [
    "TfV_Crime_by_the_year = TfV_df.groupby([\"occurrenceyear\"])[\"event_unique_id\"].count()\n",
    "TfV_Crime_by_the_year=pd.DataFrame(TfV_Crime_by_the_year[12:20])\n",
    "TfV_Crime_by_the_year=TfV_Crime_by_the_year.rename(columns={\"event_unique_id\":\"Total Crimes\"})\n",
    "TfV_Crime_by_the_year=TfV_Crime_by_the_year.reset_index(level=0)\n",
    "TfV_Crime_by_the_year"
   ]
  },
  {
   "cell_type": "code",
   "execution_count": 9,
   "id": "5bacaa8c",
   "metadata": {},
   "outputs": [
    {
     "data": {
      "text/html": [
       "<div>\n",
       "<style scoped>\n",
       "    .dataframe tbody tr th:only-of-type {\n",
       "        vertical-align: middle;\n",
       "    }\n",
       "\n",
       "    .dataframe tbody tr th {\n",
       "        vertical-align: top;\n",
       "    }\n",
       "\n",
       "    .dataframe thead th {\n",
       "        text-align: right;\n",
       "    }\n",
       "</style>\n",
       "<table border=\"1\" class=\"dataframe\">\n",
       "  <thead>\n",
       "    <tr style=\"text-align: right;\">\n",
       "      <th></th>\n",
       "      <th>occurrenceyear</th>\n",
       "      <th>Total Crimes</th>\n",
       "    </tr>\n",
       "  </thead>\n",
       "  <tbody>\n",
       "    <tr>\n",
       "      <th>0</th>\n",
       "      <td>2014</td>\n",
       "      <td>33765</td>\n",
       "    </tr>\n",
       "    <tr>\n",
       "      <th>1</th>\n",
       "      <td>2015</td>\n",
       "      <td>33863</td>\n",
       "    </tr>\n",
       "    <tr>\n",
       "      <th>2</th>\n",
       "      <td>2016</td>\n",
       "      <td>33191</td>\n",
       "    </tr>\n",
       "    <tr>\n",
       "      <th>3</th>\n",
       "      <td>2017</td>\n",
       "      <td>35005</td>\n",
       "    </tr>\n",
       "    <tr>\n",
       "      <th>4</th>\n",
       "      <td>2018</td>\n",
       "      <td>36692</td>\n",
       "    </tr>\n",
       "    <tr>\n",
       "      <th>5</th>\n",
       "      <td>2019</td>\n",
       "      <td>39444</td>\n",
       "    </tr>\n",
       "    <tr>\n",
       "      <th>6</th>\n",
       "      <td>2020</td>\n",
       "      <td>35392</td>\n",
       "    </tr>\n",
       "    <tr>\n",
       "      <th>7</th>\n",
       "      <td>2021</td>\n",
       "      <td>32517</td>\n",
       "    </tr>\n",
       "  </tbody>\n",
       "</table>\n",
       "</div>"
      ],
      "text/plain": [
       "   occurrenceyear  Total Crimes\n",
       "0            2014         33765\n",
       "1            2015         33863\n",
       "2            2016         33191\n",
       "3            2017         35005\n",
       "4            2018         36692\n",
       "5            2019         39444\n",
       "6            2020         35392\n",
       "7            2021         32517"
      ]
     },
     "execution_count": 9,
     "metadata": {},
     "output_type": "execute_result"
    }
   ],
   "source": [
    "Merged_Crime_by_the_year = merged_df.groupby([\"occurrenceyear\"])[\"event_unique_id\"].count()\n",
    "Merged_Crime_by_the_year=pd.DataFrame(Merged_Crime_by_the_year[14:22])\n",
    "Merged_Crime_by_the_year=Merged_Crime_by_the_year.rename(columns={\"event_unique_id\":\"Total Crimes\"})\n",
    "Merged_Crime_by_the_year=Merged_Crime_by_the_year.reset_index(level=0)\n",
    "Merged_Crime_by_the_year"
   ]
  },
  {
   "cell_type": "code",
   "execution_count": 22,
   "id": "50c3423e",
   "metadata": {},
   "outputs": [
    {
     "data": {
      "image/png": "[encoded data removed]",
      "text/plain": [
       "<Figure size 720x576 with 3 Axes>"
      ]
     },
     "metadata": {
      "needs_background": "light"
     },
     "output_type": "display_data"
    }
   ],
   "source": [
    "fig, (ax1, ax2, ax3) = plt.subplots(3, sharex=True,figsize=(10, 8))\n",
    "fig.suptitle(\"Number of Crimes Over Year 2014-2021\", fontsize=16, fontweight=\"bold\")\n",
    "ax1.plot(Assault_Crime_by_the_year[\"occurrenceyear\"],Assault_Crime_by_the_year[\"Total Crimes\"], linewidth=1, marker=\"o\")\n",
    "ax1.set_ylabel(\"Assault Crimes\")\n",
    "\n",
    "ax2.plot(BnE_Crime_by_the_year[\"occurrenceyear\"],BnE_Crime_by_the_year[\"Total Crimes\"], linewidth=1, marker=\"o\",color=\"y\")\n",
    "ax2.set_ylabel(\"Break and Enter Crimes\")\n",
    "\n",
    "ax3.plot(TfV_Crime_by_the_year[\"occurrenceyear\"],TfV_Crime_by_the_year[\"Total Crimes\"], linewidth=1, marker=\"o\",color=\"r\")\n",
    "ax3.set_ylabel(\"Theft from vehicle Crimes\")\n",
    "plt.show()\n"
   ]
  },
  {
   "cell_type": "code",
   "execution_count": 28,
   "id": "8f732cba",
   "metadata": {},
   "outputs": [
    {
     "data": {
      "image/png": "[encoded data removed]",
      "text/plain": [
       "<Figure size 432x288 with 1 Axes>"
      ]
     },
     "metadata": {
      "needs_background": "light"
     },
     "output_type": "display_data"
    }
   ],
   "source": [
    "plt.scatter(Merged_Crime_by_the_year[\"occurrenceyear\"],Merged_Crime_by_the_year[\"Total Crimes\"],marker=\"o\")\n",
    "datacursor(hover=True, point_labels=Merged_Crime_by_the_year[\"Total Crimes\"])\n",
    "plt.xlabel(\"Total Crimes\")\n",
    "plt.ylabel(\"Occured Year\")\n",
    "plt.title(\"Top 3 Crimes Occured over Year 2014 - 2021\")\n",
    "slope, inte, r, p, std_err = stats.linregress(Merged_Crime_by_the_year[\"occurrenceyear\"], Merged_Crime_by_the_year[\"Total Crimes\"])\n",
    "fit = slope * Merged_Crime_by_the_year[\"occurrenceyear\"] + inte\n",
    "plt.plot(Merged_Crime_by_the_year[\"occurrenceyear\"] ,fit,\"r-\")\n",
    "#plt.xticks(, rotation=90)\n",
    "plt.show()"
   ]
  },
  {
   "cell_type": "code",
   "execution_count": 24,
   "id": "336d462a",
   "metadata": {},
   "outputs": [
    {
     "name": "stdout",
     "output_type": "stream",
     "text": [
      "The number of crimes in 2023 forecasted as per this info will be 36251.0.\n"
     ]
    }
   ],
   "source": [
    "year = 2023\n",
    "print(f\"The number of crimes in 2023 forecasted as per this info will be {round(slope * year + inte,0)}.\")"
   ]
  },
  {
   "cell_type": "code",
   "execution_count": null,
   "id": "f22b3dcc",
   "metadata": {},
   "outputs": [],
   "source": []
  }
 ],
 "metadata": {
  "kernelspec": {
   "display_name": "PythonData",
   "language": "python",
   "name": "pythondata"
  },
  "language_info": {
   "codemirror_mode": {
    "name": "ipython",
    "version": 3
   },
   "file_extension": ".py",
   "mimetype": "text/x-python",
   "name": "python",
   "nbconvert_exporter": "python",
   "pygments_lexer": "ipython3",
   "version": "3.7.7"
  }
 },
 "nbformat": 4,
 "nbformat_minor": 5
}
